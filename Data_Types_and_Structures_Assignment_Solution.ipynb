{
  "nbformat": 4,
  "nbformat_minor": 0,
  "metadata": {
    "colab": {
      "provenance": []
    },
    "kernelspec": {
      "name": "python3",
      "display_name": "Python 3"
    },
    "language_info": {
      "name": "python"
    }
  },
  "cells": [
    {
      "cell_type": "markdown",
      "source": [
        "#Data Types and Structures Questions and their Answers:-#"
      ],
      "metadata": {
        "id": "aUg_PFIUmEYc"
      }
    },
    {
      "cell_type": "markdown",
      "source": [
        "**Question-1)** What are data structures, and why are they important?\n",
        "\n",
        "**Answer-1)**\n",
        "Data structures are ways of organizing and storing data in a computer so that it can be accessed and modified efficiently. They are essential tools in computer science and programming because they help manage and process data effectively for different tasks.\n",
        "\n",
        "Data Structures are Important beacuse of the following reason:-\n",
        "\n",
        "a) It has Efficient Data Management: Helps store and organize data logically (e.g., lists, trees, graphs). Which Enables faster data access, update, insertion, and deletion.\n",
        "\n",
        "b)It gives Better Performance: The right data structure reduces time and space complexity. For example, using a dictionary for lookup is faster than using a list.\n",
        "\n",
        "c) It Solves Real-World Problems: Used in algorithms for sorting, searching, and graph traversal (e.g., Google Maps). It provide Structures like queues and stacks are used in OS and networking.\n",
        "\n",
        "d)It has Foundation of Algorithms: Almost every algorithm is built on a specific data structure. Choosing the wrong one can lead to poor performance or failure."
      ],
      "metadata": {
        "id": "ixS36Z8cDyPl"
      }
    },
    {
      "cell_type": "markdown",
      "source": [
        "**Question-2)** Explain the difference between mutable and immutable data types with examples.\n",
        "\n",
        "**Answer-2)**\n",
        "Mutable data types are those whose value can be changed after they are created. When we modify a mutable object, we are changing the original object in memory, not creating a new one.\n",
        "\n",
        "While Immutable data types are those whose value cannot be changed after they are created. If you try to \"modify\" an immutable object, what actually happens is that a new object with the modified value is created, and the original object remains untouched."
      ],
      "metadata": {
        "id": "f0w2EKGJLBIx"
      }
    },
    {
      "cell_type": "code",
      "source": [
        "#Example of Mutable Data Type\n",
        "my_list = [10, 20, 30]  # Creating a list\n",
        "print(\"Original list:\", my_list)\n",
        "\n",
        "my_list[1] = 99 # Modifying an element in the list\n",
        "print(\"Modified list:\", my_list)\n",
        "\n",
        "\n",
        "#Exanmple of Immutable data Type\n",
        "my_tuple = (10, 20, 30) # Creating a tuple\n",
        "print(\"\\nOriginal tuple:\", my_tuple)\n",
        "\n",
        "\n",
        "try:\n",
        "    my_tuple[1] = 99 # Attempting to modify an element in the tuple\n",
        "except TypeError as e:\n",
        "    print(\"Error while modifying tuple:\", e)"
      ],
      "metadata": {
        "colab": {
          "base_uri": "https://localhost:8080/"
        },
        "id": "CxfAk3wLRSAu",
        "outputId": "93fbdb91-03d1-48c3-fe78-b30f4757ca0a"
      },
      "execution_count": 9,
      "outputs": [
        {
          "output_type": "stream",
          "name": "stdout",
          "text": [
            "Original list: [10, 20, 30]\n",
            "Modified list: [10, 99, 30]\n",
            "\n",
            "Original tuple: (10, 20, 30)\n",
            "Error while modifying tuple: 'tuple' object does not support item assignment\n"
          ]
        }
      ]
    },
    {
      "cell_type": "markdown",
      "source": [
        "**Question-3)** What are the main differences between lists and tuples in Python ?\n",
        "\n",
        "**Answer-3)**\n",
        "Main Differences Between Lists and Tuples in Python are:\n",
        "\n",
        "a)Mutability: List: It is Mutable. we can change, add, or remove elements.\n",
        "\n",
        "b)Tuple: It is Immutable, we cannot change elements once created.\n",
        "\n",
        "c)Syntax: List: It iis Created using square brackets [ ]. Example: my_list = [1, 2, 3]\n",
        "\n",
        "Tuple: It is  Created using round brackets ( ). Example: my_tuple = (1, 2, 3)\n",
        "\n",
        "d)Performance: Tuple is faster and uses less memory than a list.\n",
        "\n",
        "e)Methods: List has more built-in methods like append(), remove(). Tuple has fewer methods due to immutability.\n",
        "\n",
        "f)Use Case: Use list when the data can change While Use tuple when the data should stay constant (e.g., coordinates)."
      ],
      "metadata": {
        "id": "C9krBS-vT1_l"
      }
    },
    {
      "cell_type": "markdown",
      "source": [
        "**Question-4)**  Describe how dictionaries store data.\n",
        "\n",
        "**Answer-4)** In Python, a dictionary stores data in key-value pairs using a structure called a hash table.\n",
        "\n",
        "When you create a dictionary, Python uses a hash function to compute a unique hash value for each key.\n",
        "\n",
        "That hash value decides where in memory (the \"bucket\") the key-value pair will be stored.\n",
        "\n",
        "This allows for very fast access to values using keys — typically in constant time O(1)."
      ],
      "metadata": {
        "id": "ktf_-TZTVy_Q"
      }
    },
    {
      "cell_type": "code",
      "source": [
        "#Example of Dictionary storing data\n",
        "\n",
        "student = {\"name\": \"Vimal\", \"age\": 30, \"grade\": \"A+\" }\n",
        "print(student[\"name\"])\n",
        "print(student[\"age\"])\n",
        "print(student[\"grade\"])"
      ],
      "metadata": {
        "colab": {
          "base_uri": "https://localhost:8080/"
        },
        "id": "wg4QE5vrX3H9",
        "outputId": "4a04016b-a904-4f39-d54f-7c8d9e672e90"
      },
      "execution_count": 13,
      "outputs": [
        {
          "output_type": "stream",
          "name": "stdout",
          "text": [
            "Vimal\n",
            "30\n",
            "A+\n"
          ]
        }
      ]
    },
    {
      "cell_type": "markdown",
      "source": [
        "**Question-5)** Why might you use a set instead of a list in Python?\n",
        "\n",
        "**Answer-5)** We would use a set instead of a list in Python primarily for two reasons-: to guarantee uniqueness of elements, as sets automatically eliminate duplicates, and for significantly faster membership testing (checking if an item exists), due to their hash-table implementation. Additionally, sets are ideal for performing mathematical set operations like union, intersection, and difference, and when the order of elements is not important."
      ],
      "metadata": {
        "id": "4U5005I0ZiTG"
      }
    },
    {
      "cell_type": "markdown",
      "source": [
        "**Question-6)** What is a string in Python, and how is it different from a list?\n",
        "\n",
        "**Answer-6)** A string in Python is an immutable sequence of characters, used for representing text. Once created, its content cannot be changed; any \"modification\" results in a new string.\n",
        "\n",
        "In contrast, a list is a mutable sequence that can hold items of any data type. Its elements can be added, removed, or changed in-place after creation.\n",
        "\n",
        "The key differences are:\n",
        "\n",
        "A) Mutability: Strings are immutable; lists are mutable.\n",
        "\n",
        "B)Defined: Strings are defined under round bracket that is parenthesis ( ) along with single, double and triple qoutes while List is under squre bracket [ ]\n",
        "\n",
        "C) Element Type: Strings hold characters; lists can hold diverse Python objects.\n",
        "\n",
        "D) Purpose: Strings are for text manipulation; lists are for dynamic collections of items."
      ],
      "metadata": {
        "id": "xDnejHOqa4Dh"
      }
    },
    {
      "cell_type": "code",
      "source": [
        "#Example Of STRING:-\n",
        "name = (\"Alice\")\n",
        "print(name)\n",
        "print(name[0])\n",
        "\n",
        "#Exaple of LIST:-\n",
        "colors = [\"red\", \"green\", \"blue\", 1, 32.4]\n",
        "print(colors)\n",
        "print(colors[0])\n",
        "\n"
      ],
      "metadata": {
        "colab": {
          "base_uri": "https://localhost:8080/"
        },
        "id": "Fn0BJt9leXjS",
        "outputId": "378af90a-0896-4acf-a8ae-b23e2341579e"
      },
      "execution_count": 16,
      "outputs": [
        {
          "output_type": "stream",
          "name": "stdout",
          "text": [
            "Alice\n",
            "A\n",
            "['red', 'green', 'blue', 1, 32.4]\n",
            "red\n"
          ]
        }
      ]
    },
    {
      "cell_type": "markdown",
      "source": [
        "**Question-7)** How do tuples ensure data integrity in Python?\n",
        "\n",
        "**Answer-7)** Tuples ensure data integrity in Python mainly through their immutability.\n",
        "\n",
        "Here's how:\n",
        "\n",
        "A) Immutable Nature: Once a tuple is created, its elements cannot be changed (no addition, deletion, or modification). This prevents accidental changes to the data, which is crucial in applications where consistency is important.\n",
        "\n",
        "B) Hashable (when containing only immutable elements): Tuples can be used as keys in dictionaries or elements in sets if all items in the tuple are immutable. This allows for secure and efficient storage of fixed data.\n",
        "\n",
        "c) Safe for Fixed Data Structures: Ideal for storing configuration settings, coordinates, database records, etc., where data should remain constant throughout the program.\n",
        "\n",
        "So, by being unchangeable, tuples help maintain the original, intended state of data, reducing bugs and ensuring reliability."
      ],
      "metadata": {
        "id": "kpOjKqgCfOuj"
      }
    },
    {
      "cell_type": "code",
      "source": [
        "#EXAMPLE\n",
        "user_info = (\"Alice\", 25, \"Engineer\")\n",
        "# Trying to change the age will cause an error\n",
        "user_info[1] = 30  # This will raise a TypeError\n"
      ],
      "metadata": {
        "colab": {
          "base_uri": "https://localhost:8080/",
          "height": 176
        },
        "id": "GTObl7TogkV0",
        "outputId": "737abde1-2d02-4df4-c44a-1b18f6701b12"
      },
      "execution_count": 18,
      "outputs": [
        {
          "output_type": "error",
          "ename": "TypeError",
          "evalue": "'tuple' object does not support item assignment",
          "traceback": [
            "\u001b[0;31m---------------------------------------------------------------------------\u001b[0m",
            "\u001b[0;31mTypeError\u001b[0m                                 Traceback (most recent call last)",
            "\u001b[0;32m/tmp/ipython-input-18-3128751520.py\u001b[0m in \u001b[0;36m<cell line: 0>\u001b[0;34m()\u001b[0m\n\u001b[1;32m      2\u001b[0m \u001b[0muser_info\u001b[0m \u001b[0;34m=\u001b[0m \u001b[0;34m(\u001b[0m\u001b[0;34m\"Alice\"\u001b[0m\u001b[0;34m,\u001b[0m \u001b[0;36m25\u001b[0m\u001b[0;34m,\u001b[0m \u001b[0;34m\"Engineer\"\u001b[0m\u001b[0;34m)\u001b[0m\u001b[0;34m\u001b[0m\u001b[0;34m\u001b[0m\u001b[0m\n\u001b[1;32m      3\u001b[0m \u001b[0;31m# Trying to change the age will cause an error\u001b[0m\u001b[0;34m\u001b[0m\u001b[0;34m\u001b[0m\u001b[0m\n\u001b[0;32m----> 4\u001b[0;31m \u001b[0muser_info\u001b[0m\u001b[0;34m[\u001b[0m\u001b[0;36m1\u001b[0m\u001b[0;34m]\u001b[0m \u001b[0;34m=\u001b[0m \u001b[0;36m30\u001b[0m  \u001b[0;31m# This will raise a TypeError\u001b[0m\u001b[0;34m\u001b[0m\u001b[0;34m\u001b[0m\u001b[0m\n\u001b[0m",
            "\u001b[0;31mTypeError\u001b[0m: 'tuple' object does not support item assignment"
          ]
        }
      ]
    },
    {
      "cell_type": "markdown",
      "source": [
        "**Question-8)** What is a hash table, and how does it relate to dictionaries in Python?\n",
        "\n",
        "**Answer-8)** A hash table is a data structure that stores data in an associative manner, using key-value pairs. It allows for fast access, insertion, and deletion of values based on unique keys.\n",
        "\n",
        "It Works as follow:-\n",
        "\n",
        "i) A key is passed through a hash function, which converts it into a hash code (an integer).\n",
        "\n",
        "ii) This hash code determines the index in an internal array where the corresponding value is stored.\n",
        "\n",
        "iii) If multiple keys hash to the same index (called a collision), the hash table uses methods like chaining (storing multiple items at the same index in a list) or open addressing to resolve it."
      ],
      "metadata": {
        "id": "Q6-WJjm6hFjQ"
      }
    },
    {
      "cell_type": "code",
      "source": [
        "#Example:-\n",
        "\n",
        "my_dict = {\"apple\": 10, \"banana\": 20}\n",
        "print(my_dict[\"apple\"])  # Output: 10\n",
        "\n",
        "\n",
        "# \"apple\" is hashed into an index.\n",
        "\n",
        "# Python retrieves the value 10 quickly by looking at that index."
      ],
      "metadata": {
        "colab": {
          "base_uri": "https://localhost:8080/"
        },
        "id": "_vo1BzeejCfy",
        "outputId": "6b95be9d-02b6-43e4-f515-40614e294698"
      },
      "execution_count": 19,
      "outputs": [
        {
          "output_type": "stream",
          "name": "stdout",
          "text": [
            "10\n"
          ]
        }
      ]
    },
    {
      "cell_type": "markdown",
      "source": [
        "**Question-9)** Can lists contain different data types in Python ?\n",
        "\n",
        "**Answer-9)** Yes, lists in Python can contain different data types.\n",
        "\n",
        "Python lists are heterogeneous, meaning they can hold a mix of data types such as integers, strings, floats, booleans, other lists, and even custom objects.\n",
        "\n",
        "This list contains: An integer (42), A string (\"hello\"), A float (3.14), A boolean (True), Another list ([1, 2, 3])\n",
        "\n",
        "This flexibility makes lists in Python very powerful and versatile."
      ],
      "metadata": {
        "id": "PmW0sQpNhFxL"
      }
    },
    {
      "cell_type": "code",
      "source": [
        "my_list = [42, \"hello\", 3.14, True, [1, 2, 3]]\n",
        "print(my_list)\n"
      ],
      "metadata": {
        "colab": {
          "base_uri": "https://localhost:8080/"
        },
        "id": "8Zzy-Cn-kErL",
        "outputId": "4bf20f90-1fbc-4007-cfc1-5bf3e016fd6e"
      },
      "execution_count": 22,
      "outputs": [
        {
          "output_type": "stream",
          "name": "stdout",
          "text": [
            "[42, 'hello', 3.14, True, [1, 2, 3]]\n"
          ]
        }
      ]
    },
    {
      "cell_type": "markdown",
      "source": [
        "**Question-10)** Explain why strings are immutable in Python.\n",
        "\n",
        "**Answer-10)** Reasons for String Immutability are as follows:\n",
        "\n",
        "A) Memory Efficiency: Python optimizes memory by reusing string objects. If strings were mutable, this could lead to unexpected changes in multiple variables sharing the same string.\n",
        "\n",
        "B) Hashability: Immutable objects like strings can be used as keys in dictionaries or elements in sets, because their value can't change over time.\n",
        "If strings were mutable, their hash value could change, breaking dictionary behavior.\n",
        "\n",
        "C) Thread-Safety: Since strings cannot be modified, they are safe to share between threads without extra locks or synchronization.\n",
        "\n",
        "D) Consistency and Predictability: Immutability helps avoid bugs caused by accidental changes to string data, especially in large programs.\n",
        "\n",
        "So, Python makes strings immutable to improve performance, safety, and reliability in your code."
      ],
      "metadata": {
        "id": "onbq_wFVhGCE"
      }
    },
    {
      "cell_type": "markdown",
      "source": [
        "**Question-11)** What advantages do dictionaries offer over lists for certain tasks?\n",
        "\n",
        "**Answer-11)** Advantages of Dictionaries over Lists in Python are as follows:-\n",
        "\n",
        "Dictionaries offer several key benefits over lists for specific tasks, especially when working with key-value relationships.\n",
        "\n",
        "1. Fast Lookup by Key:\n",
        "Dictionaries provide O(1) average time complexity for accessing values using keys.\n",
        "\n",
        "Lists require O(n) time to search for an item.\n",
        "\n",
        " 2. Descriptive Keys:\n",
        "Keys in a dictionary make the data more readable and meaningful.\n",
        "\n",
        "Lists use only numeric indexes, which can be harder to understand.\n",
        "\n",
        "List: student = [\"Vimal\", 20]\n",
        "Dictionary: student = {\"name\": \"Vimal\", \"age\": 30}\n",
        "\n",
        " 3. Better for Structured Data:\n",
        "Dictionaries are ideal for representing objects or records, like a person, product, or student record.\n",
        "\n",
        "4. Avoiding Duplicates:\n",
        "Each key in a dictionary is unique, which helps avoid duplication and keeps data organized.\n",
        "\n",
        "5. Dynamic Data Storage:\n",
        "You can easily add, remove, or update entries in a dictionary by key.\n",
        "\n",
        "So that, Dictionaries are the better choice when you need quick lookups, descriptive keys, or are working with structured data."
      ],
      "metadata": {
        "id": "O8LF0Iw4hGQH"
      }
    },
    {
      "cell_type": "code",
      "source": [
        "#Example:-\n",
        "student = {\"name\": \"Vimal Chandra\", \"age\": 30}\n",
        "print(student[\"name\"])  # Fast and direct"
      ],
      "metadata": {
        "colab": {
          "base_uri": "https://localhost:8080/"
        },
        "id": "w6PrUFFnoNsx",
        "outputId": "78d11aa4-9b1c-45c5-c3a3-201257f146f4"
      },
      "execution_count": 24,
      "outputs": [
        {
          "output_type": "stream",
          "name": "stdout",
          "text": [
            "Vimal Chandra\n"
          ]
        }
      ]
    },
    {
      "cell_type": "markdown",
      "source": [
        "**Question-12)** Describe a scenario where using a tuple would be preferable over a list.\n",
        "\n",
        "**Answer-12)** Simple Explanation:\n",
        "\n",
        "Scenario: Suppose we're storing a location's coordinates, like a point on a map:\n",
        "location = (10, 20)\n",
        "\n",
        "Here, Why we Use a Tuple Instead of a List?\n",
        "\n",
        "1. We don’t want it to change:\n",
        "   Coordinates should stay the same. Using a tuple keeps them safe from being changed by mistake.\n",
        "\n",
        "2. It’s faster and uses less memory:\n",
        "   Tuples are lighter than lists, so they work better when you only need to store fixed values.\n",
        "\n",
        "3. Makes your code clearer:\n",
        "   A tuple shows that the values **won’t change**, so it's easier to understand your code.\n",
        "\n",
        "Example in Real Life:\n",
        "Just like a home address doesn’t change often, coordinates should stay the same — so we use a tuple to protect the data.\n",
        "\n",
        "\n",
        "So, We Use a tuple when our data should stay the same, like coordinates, dates, or settings that shouldn’t be changed."
      ],
      "metadata": {
        "id": "nNIkFC_Uojev"
      }
    },
    {
      "cell_type": "markdown",
      "source": [
        "**Question-13)** How do sets handle duplicate values in Python?\n",
        "\n",
        "**Answer-13)** In Python, sets automatically remove duplicate values. A set only stores unique items — no repetitions are allowed."
      ],
      "metadata": {
        "id": "Rq1JxGSzolSk"
      }
    },
    {
      "cell_type": "code",
      "source": [
        "my_set = {1, 2, 2, 3, 4, 4, 4}\n",
        "print(my_set)"
      ],
      "metadata": {
        "colab": {
          "base_uri": "https://localhost:8080/"
        },
        "id": "Mwrs4FNMvNrR",
        "outputId": "4c289391-0747-49ec-a424-20e5122a9749"
      },
      "execution_count": 27,
      "outputs": [
        {
          "output_type": "stream",
          "name": "stdout",
          "text": [
            "{1, 2, 3, 4}\n"
          ]
        }
      ]
    },
    {
      "cell_type": "markdown",
      "source": [
        "Even though 2 and 4 appeared multiple times, the set only keeps one copy of each.\n",
        "\n",
        "Why This Happens:\n",
        "Sets are unordered collections that use hashing to ensure fast lookups and uniqueness.\n",
        "\n",
        "When you add elements, Python checks if the value already exists — if it does, it’s ignored.\n",
        "\n",
        " Summary:\n",
        "Sets automatically remove duplicates and store only unique values, which makes them perfect for tasks like removing repeated items from a list."
      ],
      "metadata": {
        "id": "3bq7-8pavVWz"
      }
    },
    {
      "cell_type": "markdown",
      "source": [
        "**Question-14)** How does the “in” keyword work differently for lists and dictionaries ?\n",
        "\n",
        "**Answer-14)** The in keyword checks for presence, but what it looks for differs:\n",
        "\n",
        "For Lists (in checks for values): It checks if an item is present anywhere as an element in the list. This involves scanning the list, so it can be slower for large lists.\n",
        "\n",
        "Example:-"
      ],
      "metadata": {
        "id": "yN3sCFEbvxlK"
      }
    },
    {
      "cell_type": "code",
      "source": [
        "#Example:-\n",
        "my_list = [10, 'apple', 30]\n",
        "print('apple' in my_list)"
      ],
      "metadata": {
        "colab": {
          "base_uri": "https://localhost:8080/"
        },
        "id": "aYjwxCnryumr",
        "outputId": "44c8adc1-cd87-438d-b5c1-733d849eb858"
      },
      "execution_count": 29,
      "outputs": [
        {
          "output_type": "stream",
          "name": "stdout",
          "text": [
            "True\n",
            "False\n"
          ]
        }
      ]
    },
    {
      "cell_type": "markdown",
      "source": [
        "For Dictionaries (in checks for keys): It checks if an item is present as a key in the dictionary. This is very fast because dictionaries use a special technique called \"hashing\" to quickly find keys.\n",
        "\n",
        "Example:-"
      ],
      "metadata": {
        "id": "PRqXXxaUzAq8"
      }
    },
    {
      "cell_type": "code",
      "source": [
        "#Example\n",
        "my_dict = {'name': 'Vimal', 'age': 30}\n",
        "print('name' in my_dict)    # True (Is 'name' a key?)\n",
        "print('Alice' in my_dict)   # False (Is 'Vimal' a key? No, it's a value)"
      ],
      "metadata": {
        "colab": {
          "base_uri": "https://localhost:8080/"
        },
        "id": "0Z8EypN7y1QU",
        "outputId": "66b6c150-2f08-475d-b8d9-3fde1e8f29fc"
      },
      "execution_count": 30,
      "outputs": [
        {
          "output_type": "stream",
          "name": "stdout",
          "text": [
            "True\n",
            "False\n"
          ]
        }
      ]
    },
    {
      "cell_type": "markdown",
      "source": [
        "In short, for list in asks \"is this item here?\",\n",
        "\n",
        "and for dictionaries \"is this key here?\"."
      ],
      "metadata": {
        "id": "o1oV3OvYzZ_E"
      }
    },
    {
      "cell_type": "markdown",
      "source": [
        "**Question-15)** Can you modify the elements of a tuple? Explain why or why not?\n",
        "\n",
        "**Answer-15)** No, you cannot modify the elements of a tuple after it has been created. This is because tuples in Python are immutable.\n",
        "\n",
        "Here's why:\n",
        "\n",
        "**Immutability Defined:** \"Immutable\" means \"unchangeable\" or \"fixed.\" Once a tuple object is formed in memory with its specific elements, those elements cannot be altered, added, or removed.\n",
        "\n",
        "**Underlying Design:** Python's design decision to make tuples immutable serves several important purposes:\n",
        "\n",
        "**Data Integrity:** It ensures that data represented by a tuple remains constant throughout its lifecycle. If you pass a tuple around your program, you can be absolutely certain that its contents won't be accidentally changed by another part of the code.\n",
        "\n",
        "**Hashability:** Because their content cannot change, tuples can have a consistent \"hash value\" (a unique numerical identifier). This makes them suitable for use as keys in dictionaries and elements in sets, where the objects need to be fixed and uniquely identifiable. Mutable objects like lists cannot be used as dictionary keys because their hash value could change if they were modified, breaking the lookup mechanism.\n",
        "\n",
        "**Thread Safety:** In multi-threaded environments, immutable objects are inherently thread-safe. Multiple threads can access the same tuple concurrently without any risk of one thread modifying it while another is reading, eliminating the need for complex locking mechanisms.\n",
        "\n",
        "**Predictable Behavior:** Immutability leads to more predictable program behavior, reducing the likelihood of unexpected side effects and making code easier to debug.\n",
        "\n",
        "What happens if you try to \"modify\" a tuple?\n",
        "\n",
        "If you try to perform an operation that would typically modify a mutable sequence (like lists), you'll get a TypeError:"
      ],
      "metadata": {
        "id": "lhzgD28wz7Fn"
      }
    },
    {
      "cell_type": "code",
      "source": [
        "#Exapmle\n",
        "my_tuple = (1, 2, 3)\n",
        "\n",
        "# Attempting to change an element\n",
        "my_tuple[0] = 5  # This will raise a TypeError: 'tuple' object does not support item assignment"
      ],
      "metadata": {
        "colab": {
          "base_uri": "https://localhost:8080/",
          "height": 211
        },
        "id": "kP9VKqw8z6N7",
        "outputId": "23cc3f25-fb33-4d56-d882-69f8c5f0a297"
      },
      "execution_count": 31,
      "outputs": [
        {
          "output_type": "error",
          "ename": "TypeError",
          "evalue": "'tuple' object does not support item assignment",
          "traceback": [
            "\u001b[0;31m---------------------------------------------------------------------------\u001b[0m",
            "\u001b[0;31mTypeError\u001b[0m                                 Traceback (most recent call last)",
            "\u001b[0;32m/tmp/ipython-input-31-84240248.py\u001b[0m in \u001b[0;36m<cell line: 0>\u001b[0;34m()\u001b[0m\n\u001b[1;32m      3\u001b[0m \u001b[0;34m\u001b[0m\u001b[0m\n\u001b[1;32m      4\u001b[0m \u001b[0;31m# Attempting to change an element\u001b[0m\u001b[0;34m\u001b[0m\u001b[0;34m\u001b[0m\u001b[0m\n\u001b[0;32m----> 5\u001b[0;31m \u001b[0mmy_tuple\u001b[0m\u001b[0;34m[\u001b[0m\u001b[0;36m0\u001b[0m\u001b[0;34m]\u001b[0m \u001b[0;34m=\u001b[0m \u001b[0;36m5\u001b[0m  \u001b[0;31m# This will raise a TypeError: 'tuple' object does not support item assignment\u001b[0m\u001b[0;34m\u001b[0m\u001b[0;34m\u001b[0m\u001b[0m\n\u001b[0m\u001b[1;32m      6\u001b[0m \u001b[0;34m\u001b[0m\u001b[0m\n\u001b[1;32m      7\u001b[0m \u001b[0;31m# Attempting to add an element\u001b[0m\u001b[0;34m\u001b[0m\u001b[0;34m\u001b[0m\u001b[0m\n",
            "\u001b[0;31mTypeError\u001b[0m: 'tuple' object does not support item assignment"
          ]
        }
      ]
    },
    {
      "cell_type": "markdown",
      "source": [
        "Creating a \"modified\" tuple:\n",
        "\n",
        "If you need a tuple with slightly different elements, you must create an entirely new tuple based on the old one:"
      ],
      "metadata": {
        "id": "iQ2nEn5G2jhV"
      }
    },
    {
      "cell_type": "code",
      "source": [
        "#Exapmle\n",
        "\n",
        "my_tuple = (1, 2, 3)\n",
        "new_tuple = my_tuple + (4,5) # Creates a new tuple (1, 2, 3, 4,5)\n",
        "print(new_tuple)"
      ],
      "metadata": {
        "colab": {
          "base_uri": "https://localhost:8080/"
        },
        "id": "rRy1_JJ4zY5o",
        "outputId": "505c7d7e-6459-4948-d3d9-604363ad46f9"
      },
      "execution_count": 38,
      "outputs": [
        {
          "output_type": "stream",
          "name": "stdout",
          "text": [
            "(1, 2, 3, 4, 5)\n"
          ]
        }
      ]
    },
    {
      "cell_type": "markdown",
      "source": [
        "**Question-16)** What is a nested dictionary, and give an example of its use case3 ?\n",
        "\n",
        "**Answer-16)** A nested dictionary is a dictionary inside another dictionary. It lets you store complex, structured data in a clear and organized way.\n",
        "\n",
        "Use Cases:\n",
        "Managing student databases, Representing JSON data, Organizing configurations, Storing employee or product info with details.\n",
        "\n",
        "A nested dictionary helps store related information together, making your data easy to manage and access.\n",
        "\n",
        "Use Case with Example:\n",
        "Storing student records with name, age, and marks:"
      ],
      "metadata": {
        "id": "zfEhCrV63Vst"
      }
    },
    {
      "cell_type": "code",
      "source": [
        "#Example\n",
        "students = {\n",
        "    \"student1\": {\"name\": \"Vimal Chandra\", \"age\": 30, \"marks\": 95},\n",
        "    \"student2\": {\"name\": \"Gaurav Kumar\", \"age\": 27, \"marks\": 89}\n",
        "}\n",
        "\n",
        "# Accessing Data:\n",
        "print(students[\"student1\"][\"name\"])\n",
        "print(students[\"student2\"][\"marks\"])"
      ],
      "metadata": {
        "colab": {
          "base_uri": "https://localhost:8080/"
        },
        "id": "oyi-py8H2tVo",
        "outputId": "e3693a96-cd35-4ecb-bb47-ebf2a62f1f97"
      },
      "execution_count": 39,
      "outputs": [
        {
          "output_type": "stream",
          "name": "stdout",
          "text": [
            "Vimal Chandra\n",
            "89\n"
          ]
        }
      ]
    },
    {
      "cell_type": "markdown",
      "source": [
        "**Question-17)** Describe the time complexity of accessing elements in a dictionar ?\n",
        "\n",
        "**Answer-17**  Time Complexity of Accessing Elements in a Dictionary:\n",
        "\n",
        "In Python, accessing an element in a dictionary using a key has an average time complexity of O(1), which means it takes constant time regardless of the dictionary’s size.\n",
        "\n",
        "Why O(1) (Average Case)?\n",
        "Python dictionaries are implemented using a hash table.\n",
        "\n",
        "When we do my_dict[\"key\"], Python:\n",
        "\n",
        "   1. Hashes the key.\n",
        "\n",
        "   2. Calculates an index from the hash.\n",
        "\n",
        "   3. Directly retrieves the value at that index.\n",
        "\n",
        "This process avoids looping or searching, making it very fast.\n",
        "\n",
        "Worst Case: O(n)\n",
        "\n",
        "In rare situations (e.g. many hash collisions), multiple keys may map to the same location. Python handles this internally, but in theory, the worst-case lookup time becomes O(n). However, Python is designed to minimize collisions, so this is uncommon."
      ],
      "metadata": {
        "id": "MpbL0oFM5oB7"
      }
    },
    {
      "cell_type": "code",
      "source": [
        "#EXAMPLE\n",
        "my_dict = {\"name\": \"Vimal Chandra\", \"age\": 30}\n",
        "print(my_dict[\"age\"])  # O(1) time to access the value\n"
      ],
      "metadata": {
        "colab": {
          "base_uri": "https://localhost:8080/"
        },
        "id": "aD7TDK7X5Gk-",
        "outputId": "b51c9238-facb-40b8-e75a-bca9c824a3f5"
      },
      "execution_count": 41,
      "outputs": [
        {
          "output_type": "stream",
          "name": "stdout",
          "text": [
            "30\n"
          ]
        }
      ]
    },
    {
      "cell_type": "markdown",
      "source": [
        "**Question-18)** In what situations are lists preferred over dictionaries ?\n",
        "\n",
        "**Answer-18)** While dictionaries offer fast lookups by key, but lists are often preferred in several situations:\n",
        "\n",
        "1.  When Order Matters (and is inherent to the data):\n",
        "    * Sequences of events: A log of actions, a history of user inputs, or steps in a process where the chronological order is crucial.\n",
        "    * Ordered collections: A playlist of songs, a sequence of instructions, or a list of items to be processed in a specific order.\n",
        "    * Sorting: If you need to sort the data (numerically, alphabetically, etc.), lists are the primary structure to use with `list.sort()` or `sorted()`.\n",
        "\n",
        "2.  When You Need to Access Elements by Numerical Index:\n",
        "    * Lists are inherently ordered by numerical indices (0, 1, 2, ...). If you frequently need to get the \"first item,\" the \"third item,\" or a \"slice\" of items from a specific range, lists are designed for this.\n",
        "    * **Matrices/Tables (simple cases):** For representing simple tabular data or matrices where rows and columns can be accessed by numerical positions (e.g., a list of lists `[[1, 2], [3, 4]]`).\n",
        "\n",
        "3.  When You Have a Collection of \"Similar\" Items (Homogeneous Data):\n",
        "    * While lists can hold different data types, they are often used for collections where all elements are of the same conceptual type. For example, a list of student names, a list of temperatures, or a list of numbers. This makes iterating and applying operations to all elements straightforward.\n",
        "    * **Duplication Allowed and Meaningful:** Lists naturally allow duplicate elements. If having multiple instances of the same item is meaningful (e.g., `['apple', 'banana', 'apple']`), lists are appropriate.\n",
        "\n",
        "4.  When You Need to Frequently Add/Remove Elements from the Ends (Stack/Queue behavior):\n",
        "    * `list.append()` and `list.pop()` (without an index) are very efficient (O(1) on average) for adding or removing items from the end of a list, making them suitable for implementing stacks.\n",
        "    * While not as efficient for queue behavior (using `pop(0)`), for basic queue needs or if using `collections.deque`, lists (or deque) are the go-to.\n",
        "\n",
        "5.  When the Data Doesn't Have a Natural \"Key\":\n",
        "    * If your data points don't have a unique, meaningful identifier that you'd use to look them up (like a name, ID, or code), then a dictionary's key-value pairing might be overkill.\n",
        "    * For example, if you just have a collection of temperatures recorded hourly, the index (0, 1, 2...) might be sufficient to identify them.\n",
        "\n",
        "In essence:\n",
        "\n",
        "* Lists are preferred for ordered sequences where the position of an item is important or you need to iterate through all items in a specific order.\n",
        "* Dictionaries are preferred when you need to associate values with unique identifiers (keys) and perform very fast lookups based on those keys, where the order of elements isn't a primary concern."
      ],
      "metadata": {
        "id": "05OSeQgS8vKA"
      }
    },
    {
      "cell_type": "markdown",
      "source": [
        "**Question-19)**  Why are dictionaries considered unordered, and how does that affect data retrieval ?\n",
        "\n",
        "**Answer-19)**\n",
        "Dictionaries are Considered Unordered (and What That Means) are:-\n",
        "\n",
        "1. What “Unordered” Used to Mean:\n",
        "\n",
        "In earlier versions of Python (before **Python 3.7**), dictionaries were considered **unordered**, meaning:\n",
        "\n",
        "* The **order of key-value pairs** was **not guaranteed**.\n",
        "* If you added items to a dictionary, they might appear in a **different order** when retrieved.\n",
        "\n",
        "2. **Python 3.7+ Update:**\n",
        "\n",
        "As of **Python 3.7**, dictionaries **preserve insertion order**, but they are still considered **unordered in principle** because:\n",
        "\n",
        "* **Ordering is not their primary feature**.\n",
        "* They are designed for **fast key-based lookup**, not for maintaining order like a list.\n",
        "\n",
        "\n",
        "How It Affects Data Retrieval:\n",
        "\n",
        "* You **access values by keys**, not by position or index.\n",
        "* Retrieval is **fast (O(1))**, but you **can’t rely on order** for logic unless you’re using Python 3.7+ and **explicitly care about insertion order**.\n",
        "\n",
        "Summary:\n",
        "\n",
        "* Dictionaries are **unordered** because they use **keys, not positions**.\n",
        "* They **don't support indexing** like lists.\n",
        "* This makes them great for **fast key lookups**, but not for accessing data by order or position.\n"
      ],
      "metadata": {
        "id": "ZCY0X4YI_O5v"
      }
    },
    {
      "cell_type": "code",
      "source": [
        "#Example\n",
        "my_dict = {\"a\": 1, \"b\": 2, \"c\": 3}\n",
        "print(my_dict[\"b\"])  #Fast access by key"
      ],
      "metadata": {
        "colab": {
          "base_uri": "https://localhost:8080/"
        },
        "id": "oxADlb7V8gvK",
        "outputId": "d76746f2-3335-4eea-ebd6-6296a0e8cf3c"
      },
      "execution_count": 43,
      "outputs": [
        {
          "output_type": "stream",
          "name": "stdout",
          "text": [
            "2\n"
          ]
        }
      ]
    },
    {
      "cell_type": "markdown",
      "source": [
        "**Question-20)**  Explain the difference between a list and a dictionary in terms of data retrieval.\n",
        "\n",
        "**Answer-20)**\n",
        "\n",
        "Difference Between a List and a Dictionary in Terms of Data Retrieval:\n",
        " 1. List:\n",
        "Retrieves data using index numbers (positions).\n",
        "\n",
        "Indexing starts at 0.\n",
        "\n",
        "Slower for searching specific values (O(n) time).\n",
        "\n",
        "Example:"
      ],
      "metadata": {
        "id": "odcx8g_5BRlH"
      }
    },
    {
      "cell_type": "code",
      "source": [
        "my_list = [\"apple\", \"banana\", \"cherry\"]\n",
        "print(my_list[1])  # Output: banana (retrieved by index)"
      ],
      "metadata": {
        "colab": {
          "base_uri": "https://localhost:8080/"
        },
        "id": "Q7MRLljOBF7L",
        "outputId": "e19104eb-8f2e-4d49-a19a-51d2ac112dd3"
      },
      "execution_count": 44,
      "outputs": [
        {
          "output_type": "stream",
          "name": "stdout",
          "text": [
            "banana\n"
          ]
        }
      ]
    },
    {
      "cell_type": "markdown",
      "source": [
        "2. Dictionary:\n",
        "Retrieves data using unique keys.\n",
        "\n",
        "Keys can be strings, numbers, etc.\n",
        "\n",
        "Very fast lookups using keys (O(1) average time).\n",
        "\n",
        "Example:"
      ],
      "metadata": {
        "id": "jRzU2wQPCRtz"
      }
    },
    {
      "cell_type": "code",
      "source": [
        "my_dict = {\"name\": \"Vimal Chandra\", \"age\": 25}\n",
        "print(my_dict[\"name\"])  # Output: Alice (retrieved by key)"
      ],
      "metadata": {
        "colab": {
          "base_uri": "https://localhost:8080/"
        },
        "id": "iC-kT3xCCQq_",
        "outputId": "07718e1f-fa4b-4bc4-c5d2-3b8f4ffb0d8e"
      },
      "execution_count": 45,
      "outputs": [
        {
          "output_type": "stream",
          "name": "stdout",
          "text": [
            "Vimal Chandra\n"
          ]
        }
      ]
    },
    {
      "cell_type": "markdown",
      "source": [],
      "metadata": {
        "id": "Gt-6D_eYCmyR"
      }
    },
    {
      "cell_type": "markdown",
      "source": [
        "#Practical Question and their Answer- Data Types and Structures Assignment\n"
      ],
      "metadata": {
        "id": "2c3gOOfFCl6F"
      }
    },
    {
      "cell_type": "code",
      "source": [
        "#1) Write a code to create a string with your name and print it.\n",
        "#Answer:-\n",
        "\n",
        "name = \"Vimal Chandra\"\n",
        "print(name)"
      ],
      "metadata": {
        "colab": {
          "base_uri": "https://localhost:8080/"
        },
        "id": "zfRsZbb0CiC3",
        "outputId": "2c922700-41d4-47e5-8269-f403b1483d2e"
      },
      "execution_count": 46,
      "outputs": [
        {
          "output_type": "stream",
          "name": "stdout",
          "text": [
            "Vimal Chandra\n"
          ]
        }
      ]
    },
    {
      "cell_type": "code",
      "source": [
        "#2)Write a code to find the length of the string \"Hello World\".\n",
        "#Answer:-\n",
        "\n",
        "string = \"Hello World\"\n",
        "print(len(string))"
      ],
      "metadata": {
        "colab": {
          "base_uri": "https://localhost:8080/"
        },
        "id": "rSTsVi7YDSJr",
        "outputId": "e16f07f3-6e2d-462d-87e9-d7d781039229"
      },
      "execution_count": 47,
      "outputs": [
        {
          "output_type": "stream",
          "name": "stdout",
          "text": [
            "11\n"
          ]
        }
      ]
    },
    {
      "cell_type": "code",
      "source": [
        "#3) Write a code to slice the first 3 characters from the string \"Python Programming\".\n",
        "#Answer:-\n",
        "\n",
        "string = \"Python Programming\"\n",
        "print(string[0:3])\n"
      ],
      "metadata": {
        "colab": {
          "base_uri": "https://localhost:8080/"
        },
        "id": "qbhD0D7zDhNi",
        "outputId": "bb90fa98-3cc5-402a-8507-883db47bf30c"
      },
      "execution_count": 48,
      "outputs": [
        {
          "output_type": "stream",
          "name": "stdout",
          "text": [
            "Pyt\n"
          ]
        }
      ]
    },
    {
      "cell_type": "code",
      "source": [
        "#4) Write a code to convert the string \"hello\" to uppercase.\n",
        "#Answer:-\n",
        "\n",
        "string=\"hello\"\n",
        "print(string.upper())"
      ],
      "metadata": {
        "colab": {
          "base_uri": "https://localhost:8080/"
        },
        "id": "nZTOfj8REDOn",
        "outputId": "0259d79d-3f5e-490e-9a7e-1b70e1035ea3"
      },
      "execution_count": 51,
      "outputs": [
        {
          "output_type": "stream",
          "name": "stdout",
          "text": [
            "HELLO\n"
          ]
        }
      ]
    },
    {
      "cell_type": "code",
      "source": [
        "#5) Write a code to replace the word \"apple\" with \"orange\" in the string \"I like apple\".\n",
        "#Answer:-\n",
        "\n",
        "string = \"I like apple\"\n",
        "new_string = string.replace(\"apple\", \"orange\")\n",
        "print(new_string)"
      ],
      "metadata": {
        "colab": {
          "base_uri": "https://localhost:8080/"
        },
        "id": "7ta3osMdEm8e",
        "outputId": "aeb4f28d-e372-4081-b2a6-ae446949a12b"
      },
      "execution_count": 52,
      "outputs": [
        {
          "output_type": "stream",
          "name": "stdout",
          "text": [
            "I like orange\n"
          ]
        }
      ]
    },
    {
      "cell_type": "code",
      "source": [
        "#6) Write a code to create a list with numbers 1 to 5 and print it.\n",
        "#Answer:-\n",
        "\n",
        "numbers=[1,2,3,4,5]\n",
        "print(numbers)"
      ],
      "metadata": {
        "colab": {
          "base_uri": "https://localhost:8080/"
        },
        "id": "PoNG7SnHIgNL",
        "outputId": "b901f311-36ec-4d8e-c898-af64fb21d2e5"
      },
      "execution_count": 53,
      "outputs": [
        {
          "output_type": "stream",
          "name": "stdout",
          "text": [
            "[1, 2, 3, 4, 5]\n"
          ]
        }
      ]
    },
    {
      "cell_type": "code",
      "source": [
        "#7) Write a code to append the number 10 to the list [1, 2, 3, 4].\n",
        "#Answer:-\n",
        "\n",
        "list=[1,2,3,4,]\n",
        "list.append(10)\n",
        "print(list)"
      ],
      "metadata": {
        "colab": {
          "base_uri": "https://localhost:8080/"
        },
        "id": "Jg013VmEI4bS",
        "outputId": "ab4acfe3-be6d-4f0c-d460-aa76ce122288"
      },
      "execution_count": 55,
      "outputs": [
        {
          "output_type": "stream",
          "name": "stdout",
          "text": [
            "[1, 2, 3, 4, 10]\n"
          ]
        }
      ]
    },
    {
      "cell_type": "code",
      "source": [
        "#8) Write a code to remove the number 3 from the list [1, 2, 3, 4, 5].\n",
        "#Answer:-\n",
        "\n",
        "list=[1,2,3,4,5]\n",
        "list.remove(3)\n",
        "print(list)"
      ],
      "metadata": {
        "colab": {
          "base_uri": "https://localhost:8080/"
        },
        "id": "NYFBpXNEJOKD",
        "outputId": "38b4fa53-6829-41eb-95d8-b3936ab1b38d"
      },
      "execution_count": 57,
      "outputs": [
        {
          "output_type": "stream",
          "name": "stdout",
          "text": [
            "[1, 2, 4, 5]\n"
          ]
        }
      ]
    },
    {
      "cell_type": "code",
      "source": [
        "#9) Write a code to access the second element in the list ['a', 'b', 'c', 'd'].\n",
        "#Answer:-\n",
        "\n",
        "list=['a','b','c','d']\n",
        "second_element=list[1]\n",
        "print(second_element)"
      ],
      "metadata": {
        "colab": {
          "base_uri": "https://localhost:8080/"
        },
        "id": "N_2SVd50JogL",
        "outputId": "b24a6eda-c174-4bec-b11f-06801456d3e0"
      },
      "execution_count": 64,
      "outputs": [
        {
          "output_type": "stream",
          "name": "stdout",
          "text": [
            "b\n"
          ]
        }
      ]
    },
    {
      "cell_type": "code",
      "source": [
        "#10) Write a code to reverse the list [10, 20, 30, 40, 50].\n",
        "#Answer:-\n",
        "\n",
        "list=[10, 20, 30, 40, 50]\n",
        "list.reverse()\n",
        "print(list)"
      ],
      "metadata": {
        "colab": {
          "base_uri": "https://localhost:8080/"
        },
        "id": "YfwCiiu1KcyQ",
        "outputId": "1d2716eb-f636-4a33-80b6-e62c2c27adc5"
      },
      "execution_count": 69,
      "outputs": [
        {
          "output_type": "stream",
          "name": "stdout",
          "text": [
            "[50, 40, 30, 20, 10]\n"
          ]
        }
      ]
    },
    {
      "cell_type": "code",
      "source": [
        "#11) Write a code to create a tuple with the elements 100, 200, 300 and print it.\n",
        "my_tuple=(100, 200, 300)\n",
        "print(my_tuple)"
      ],
      "metadata": {
        "colab": {
          "base_uri": "https://localhost:8080/"
        },
        "id": "cHo5QZfMLlQZ",
        "outputId": "fdadbf42-bc75-4a59-9bb7-6747a0142855"
      },
      "execution_count": 71,
      "outputs": [
        {
          "output_type": "stream",
          "name": "stdout",
          "text": [
            "(100, 200, 300)\n"
          ]
        }
      ]
    },
    {
      "cell_type": "code",
      "source": [
        "#12) Write a code to access the second-to-last element of the tuple ('red', 'green', 'blue', 'yellow').\n",
        "colors = ('red', 'green', 'blue', 'yellow')\n",
        "second_to_last = colors[-2]\n",
        "print(second_to_last)\n"
      ],
      "metadata": {
        "colab": {
          "base_uri": "https://localhost:8080/"
        },
        "id": "XLFKHuBLMb2h",
        "outputId": "c8bb005b-1dc3-4929-d098-a111b8afb366"
      },
      "execution_count": 75,
      "outputs": [
        {
          "output_type": "stream",
          "name": "stdout",
          "text": [
            "blue\n"
          ]
        }
      ]
    },
    {
      "cell_type": "code",
      "source": [
        "#13) Write a code to find the minimum number in the tuple (10, 20, 5, 15).\n",
        "#Answer:-\n",
        "\n",
        "my_numbers=(10, 20, 5, 15)\n",
        "min_value=min(my_numbers)\n",
        "print(min_value)\n"
      ],
      "metadata": {
        "colab": {
          "base_uri": "https://localhost:8080/"
        },
        "id": "AJyjivv8NYj4",
        "outputId": "fa2e6ff6-20b4-4d22-dd4f-f8c4b0934547"
      },
      "execution_count": 78,
      "outputs": [
        {
          "output_type": "stream",
          "name": "stdout",
          "text": [
            "5\n"
          ]
        }
      ]
    },
    {
      "cell_type": "code",
      "source": [
        "#14) Write a code to find the index of the element \"cat\" in the tuple ('dog', 'cat', 'rabbit').\n",
        "#Answer:-\n",
        "\n",
        "animals=('dog', 'cat', 'rabbit')\n",
        "my_index=animals.index('cat')\n",
        "print(my_index)"
      ],
      "metadata": {
        "colab": {
          "base_uri": "https://localhost:8080/"
        },
        "id": "Zc27DyvfO1o1",
        "outputId": "5269d8f2-63a9-4083-dc1b-37cc0661fe9b"
      },
      "execution_count": 79,
      "outputs": [
        {
          "output_type": "stream",
          "name": "stdout",
          "text": [
            "1\n"
          ]
        }
      ]
    },
    {
      "cell_type": "code",
      "source": [
        "#15)  Write a code to create a tuple containing three different fruits and check if \"kiwi\" is in it.\n",
        "#Answer:-\n",
        "\n",
        "fruits=(\"apple\", \"banana\", \"cherry\", \"mango\")\n",
        "if \"kiwi\" in fruits:\n",
        "  print(\"Kiwi is in Fruits Tuple\")\n",
        "else:\n",
        "  print(\"Kiwi is not in  Fruits Tuple\")\n",
        "\n"
      ],
      "metadata": {
        "colab": {
          "base_uri": "https://localhost:8080/"
        },
        "id": "E0BBDy53QlDk",
        "outputId": "5aafe351-a077-4f58-be16-521e915025d0"
      },
      "execution_count": 82,
      "outputs": [
        {
          "output_type": "stream",
          "name": "stdout",
          "text": [
            "Kiwi is not in  Fruits Tuple\n"
          ]
        }
      ]
    },
    {
      "cell_type": "code",
      "source": [
        "#16) Write a code to create a set with the elements 'a', 'b', 'c' and print it.\n",
        "#Answer:-\n",
        "\n",
        "my_set={'a', 'b', 'c'}\n",
        "print(my_set)\n",
        "\n"
      ],
      "metadata": {
        "colab": {
          "base_uri": "https://localhost:8080/"
        },
        "id": "6HPdYvyZRw7G",
        "outputId": "8c33529e-c2dd-4b14-c132-9370216ed48b"
      },
      "execution_count": 84,
      "outputs": [
        {
          "output_type": "stream",
          "name": "stdout",
          "text": [
            "{'c', 'a', 'b'}\n"
          ]
        }
      ]
    },
    {
      "cell_type": "code",
      "source": [
        "#17) Write a code to clear all elements from the set {1, 2, 3, 4, 5}.\n",
        "#Answer:-\n",
        "\n",
        "s={1, 2, 3, 4, 5}\n",
        "s.clear()\n",
        "print(s)"
      ],
      "metadata": {
        "colab": {
          "base_uri": "https://localhost:8080/"
        },
        "id": "tVIRQ1_ZSs7U",
        "outputId": "f492a7fb-c10f-4866-be36-af21035874ce"
      },
      "execution_count": 87,
      "outputs": [
        {
          "output_type": "stream",
          "name": "stdout",
          "text": [
            "set()\n"
          ]
        }
      ]
    },
    {
      "cell_type": "code",
      "source": [
        "#18) Write a code to remove the element 4 from the set {1, 2, 3, 4}.\n",
        "#Answer:-\n",
        "\n",
        "my_numbers={1, 2, 3, 4}\n",
        "my_numbers.remove(4)\n",
        "print(my_numbers)"
      ],
      "metadata": {
        "colab": {
          "base_uri": "https://localhost:8080/"
        },
        "id": "p5Nnyo4yTbPt",
        "outputId": "cc2e08a2-2812-49df-fd40-e0c15a483197"
      },
      "execution_count": 90,
      "outputs": [
        {
          "output_type": "stream",
          "name": "stdout",
          "text": [
            "{1, 2, 3}\n"
          ]
        }
      ]
    },
    {
      "cell_type": "code",
      "source": [
        "#19)  Write a code to find the union of two sets {1, 2, 3} and {3, 4, 5}.\n",
        "#Answer:-\n",
        "\n",
        "s1={1, 2, 3,}\n",
        "s2={3, 4, 5}\n",
        "union_set=s1|s2   #Also we can do union_set= s1.union(s2)\n",
        "\n",
        "print(union_set)"
      ],
      "metadata": {
        "colab": {
          "base_uri": "https://localhost:8080/"
        },
        "id": "ioQ6YyaQUgVu",
        "outputId": "b44b17b4-351a-4fd3-c4cb-17322ad44dd6"
      },
      "execution_count": 93,
      "outputs": [
        {
          "output_type": "stream",
          "name": "stdout",
          "text": [
            "{1, 2, 3, 4, 5}\n"
          ]
        }
      ]
    },
    {
      "cell_type": "code",
      "source": [
        "#20 Write a code to find the intersection of two sets {1, 2, 3} and {2, 3, 4}.\n",
        "#Answer:-\n",
        "\n",
        "set1={1, 2, 3}\n",
        "set2={2, 3, 4}\n",
        "intersection_set= set1 & set2\n",
        "print(intersection_set)"
      ],
      "metadata": {
        "colab": {
          "base_uri": "https://localhost:8080/"
        },
        "id": "zKC5BtcsVPNx",
        "outputId": "affa3969-dcd4-4f47-ab0b-6bfe4eb6346b"
      },
      "execution_count": 94,
      "outputs": [
        {
          "output_type": "stream",
          "name": "stdout",
          "text": [
            "{2, 3}\n"
          ]
        }
      ]
    },
    {
      "cell_type": "code",
      "source": [
        "#21)  Write a code to create a dictionary with the keys \"name\", \"age\", and \"city\", and print it.\n",
        "#Answer:-\n",
        "\n",
        "my_dict={\"name\":\"Vimal Chandra\", \"age\":30, \"city\":\"Patna\"}\n",
        "print(my_dict)"
      ],
      "metadata": {
        "colab": {
          "base_uri": "https://localhost:8080/"
        },
        "id": "yBs1FhSSWo68",
        "outputId": "8417b010-ca58-4990-dcf6-7a995ab6d010"
      },
      "execution_count": 96,
      "outputs": [
        {
          "output_type": "stream",
          "name": "stdout",
          "text": [
            "{'name': 'Vimal Chandra', 'age': 30, 'city': 'Patna'}\n"
          ]
        }
      ]
    },
    {
      "cell_type": "code",
      "source": [
        "#22) Write a code to add a new key-value pair \"country\": \"USA\" to the dictionary {'name': 'John', 'age': 25}\n",
        "#Answer:-\n",
        "\n",
        "new_dict={'name': 'John', 'age': 25}\n",
        "new_dict['country']= 'USA'\n",
        "print(new_dict)"
      ],
      "metadata": {
        "colab": {
          "base_uri": "https://localhost:8080/"
        },
        "id": "lLChK5peXLKZ",
        "outputId": "a31955f5-0694-4f80-f818-18cda84531cb"
      },
      "execution_count": 99,
      "outputs": [
        {
          "output_type": "stream",
          "name": "stdout",
          "text": [
            "{'name': 'John', 'age': 25, 'country': 'USA'}\n"
          ]
        }
      ]
    },
    {
      "cell_type": "code",
      "source": [
        "#23) Write a code to access the value associated with the key \"name\" in the dictionary {'name': 'Alice', 'age': 30}.\n",
        "#Answer:-\n",
        "\n",
        "d={'name': 'Alice', 'age': 30}\n",
        "print(d['name'])"
      ],
      "metadata": {
        "colab": {
          "base_uri": "https://localhost:8080/"
        },
        "id": "-bz_NVHMYT3s",
        "outputId": "80aa8eaa-9226-4e92-ded9-a47af34e7cc1"
      },
      "execution_count": 101,
      "outputs": [
        {
          "output_type": "stream",
          "name": "stdout",
          "text": [
            "Alice\n"
          ]
        }
      ]
    },
    {
      "cell_type": "code",
      "source": [
        "#24) Write a code to remove the key \"age\" from the dictionary {'name': 'Bob', 'age': 22, 'city': 'New York'}.\n",
        "#Answer:-\n",
        "\n",
        "d={'name': 'Bob', 'age': 22, 'city': 'New York'}\n",
        "d.pop('age')\n",
        "print(d)"
      ],
      "metadata": {
        "colab": {
          "base_uri": "https://localhost:8080/"
        },
        "id": "-u9jJkfxZ9on",
        "outputId": "6730f4e8-43d1-413f-ea62-f1e824e6cd20"
      },
      "execution_count": 105,
      "outputs": [
        {
          "output_type": "stream",
          "name": "stdout",
          "text": [
            "{'name': 'Bob', 'city': 'New York'}\n"
          ]
        }
      ]
    },
    {
      "cell_type": "code",
      "source": [
        "#25)  Write a code to check if the key \"city\" exists in the dictionary {'name': 'Alice', 'city': 'Paris'}.\n",
        "#Answer:-\n",
        "\n",
        "d_dict={'name': 'Alice', 'city': 'Paris'}\n",
        "if 'city' in d_dict:\n",
        "  print(\"city is in Dictionary\")\n",
        "else:\n",
        "  print(\"city is not in Dictionary\")"
      ],
      "metadata": {
        "colab": {
          "base_uri": "https://localhost:8080/"
        },
        "id": "94tQ4Af7bCkE",
        "outputId": "2b4d9163-c3fb-49ce-e3cd-e01e8fb12f75"
      },
      "execution_count": 108,
      "outputs": [
        {
          "output_type": "stream",
          "name": "stdout",
          "text": [
            "city is in Dictionary\n"
          ]
        }
      ]
    },
    {
      "cell_type": "code",
      "source": [
        "#26)  Write a code to create a list, a tuple, and a dictionary, and print them all.\n",
        "#Answer:-\n",
        "\n",
        "\n",
        "# Create a list\n",
        "my_list = [10, 20, 30, \"apple\", \"banana\"]\n",
        "\n",
        "# Create a tuple\n",
        "my_tuple = (1, 2, \"hello\", 4.5)\n",
        "\n",
        "# Create a dictionary\n",
        "my_dictionary = {\n",
        "    \"name\": \"Vimal Chandra\",\n",
        "    \"age\": 30,\n",
        "    \"city\": \"Patna\",\n",
        "    \"is_student\": True\n",
        "}\n",
        "\n",
        "# Print them all\n",
        "print(\"My List:\", my_list)\n",
        "print(\"My Tuple:\", my_tuple)\n",
        "print(\"My Dictionary:\", my_dictionary)"
      ],
      "metadata": {
        "colab": {
          "base_uri": "https://localhost:8080/"
        },
        "id": "qZXIRlC5fYzL",
        "outputId": "161c1dc8-7870-478a-9d16-ce77d662f455"
      },
      "execution_count": 114,
      "outputs": [
        {
          "output_type": "stream",
          "name": "stdout",
          "text": [
            "My List: [10, 20, 30, 'apple', 'banana']\n",
            "My Tuple: (1, 2, 'hello', 4.5)\n",
            "My Dictionary: {'name': 'Vimal Chandra', 'age': 30, 'city': 'Patna', 'is_student': True}\n"
          ]
        }
      ]
    },
    {
      "cell_type": "code",
      "source": [
        "#27)  Write a code to create a list of 5 random numbers between 1 and 100, sort it in ascending order, and print the result.(replaced)\n",
        "#Answer:-\n",
        "\n",
        "random_number=[10, 43, 22, 57, 88]\n",
        "sorted_list=sorted(random_number)\n",
        "print(sorted_list)"
      ],
      "metadata": {
        "colab": {
          "base_uri": "https://localhost:8080/"
        },
        "id": "JjhKX5HrhjnU",
        "outputId": "211a3306-446e-44fa-e48e-b368275850d0"
      },
      "execution_count": 117,
      "outputs": [
        {
          "output_type": "stream",
          "name": "stdout",
          "text": [
            "[10, 22, 43, 57, 88]\n"
          ]
        }
      ]
    },
    {
      "cell_type": "code",
      "source": [
        "#28) Write a code to create a list with strings and print the element at the third index.\n",
        "#Answer:-\n",
        "\n",
        "my_fruits=['apple', 'banana', 'cherry', 'dates', 'elderberry']\n",
        "print(my_fruits[3])"
      ],
      "metadata": {
        "colab": {
          "base_uri": "https://localhost:8080/"
        },
        "id": "OGKgpBh2imJN",
        "outputId": "d278f767-8d87-4939-bba8-1f17a0b4ca89"
      },
      "execution_count": 119,
      "outputs": [
        {
          "output_type": "stream",
          "name": "stdout",
          "text": [
            "dates\n"
          ]
        }
      ]
    },
    {
      "cell_type": "code",
      "source": [
        "#29) Write a code to combine two dictionaries into one and print the result.\n",
        "#Answer:-\n",
        "\n",
        "dict1={'name': 'Vimal Chandra', 'age': 30, 'city': 'Patna'}\n",
        "dict2={'country': 'India', 'course': 'Data Analyst', 'Duration': '6 Months'}\n",
        "dict1.update(dict2)\n",
        "print(\"Combined Dictionary=\", dict1)"
      ],
      "metadata": {
        "colab": {
          "base_uri": "https://localhost:8080/"
        },
        "id": "HRDrissAkvKf",
        "outputId": "cb5c0a00-30b3-4fe2-b80f-2636d1c795cc"
      },
      "execution_count": 123,
      "outputs": [
        {
          "output_type": "stream",
          "name": "stdout",
          "text": [
            "Combined Dictionary= {'name': 'Vimal Chandra', 'age': 30, 'city': 'Patna', 'country': 'India', 'course': 'Data Analyst', 'Duration': '6 Months'}\n"
          ]
        }
      ]
    },
    {
      "cell_type": "code",
      "source": [
        "#30) Write a code to convert a list of strings into a set.\n",
        "#Answer:-\n",
        "\n",
        "fruits_list=['apple', 'banana', 'cherry', 'dates', 'elderberry']\n",
        "my_set=set(fruits_list)\n",
        "print(my_set)\n"
      ],
      "metadata": {
        "colab": {
          "base_uri": "https://localhost:8080/"
        },
        "id": "55g-wHzNmtos",
        "outputId": "2d7323a6-038d-4082-91b8-39f6c4ffe1e4"
      },
      "execution_count": 125,
      "outputs": [
        {
          "output_type": "stream",
          "name": "stdout",
          "text": [
            "{'banana', 'cherry', 'dates', 'elderberry', 'apple'}\n"
          ]
        }
      ]
    },
    {
      "cell_type": "code",
      "source": [],
      "metadata": {
        "id": "GhTuV5SaoA-X"
      },
      "execution_count": null,
      "outputs": []
    }
  ]
}